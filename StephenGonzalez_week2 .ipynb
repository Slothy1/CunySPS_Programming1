{
 "cells": [
  {
   "cell_type": "code",
   "execution_count": 10,
   "id": "28447c3b",
   "metadata": {},
   "outputs": [
    {
     "name": "stdout",
     "output_type": "stream",
     "text": [
      "What is your name?bob\n",
      "Hi, bob\n"
     ]
    }
   ],
   "source": [
    "name = input(\"What is your name?\")\n",
    "print (\"Hi, \" + name)"
   ]
  },
  {
   "cell_type": "code",
   "execution_count": 11,
   "id": "8275dbc0",
   "metadata": {},
   "outputs": [
    {
     "name": "stdout",
     "output_type": "stream",
     "text": [
      "What is your location?texas\n",
      "You know that texas sucks right?\n"
     ]
    }
   ],
   "source": [
    "location = input(\"What is your location?\")\n",
    "print (\"You know that \" + location + \" sucks right?\")"
   ]
  },
  {
   "cell_type": "code",
   "execution_count": null,
   "id": "42e8a446",
   "metadata": {},
   "outputs": [],
   "source": []
  }
 ],
 "metadata": {
  "kernelspec": {
   "display_name": "Python 3",
   "language": "python",
   "name": "python3"
  },
  "language_info": {
   "codemirror_mode": {
    "name": "ipython",
    "version": 3
   },
   "file_extension": ".py",
   "mimetype": "text/x-python",
   "name": "python",
   "nbconvert_exporter": "python",
   "pygments_lexer": "ipython3",
   "version": "3.8.10"
  }
 },
 "nbformat": 4,
 "nbformat_minor": 5
}
