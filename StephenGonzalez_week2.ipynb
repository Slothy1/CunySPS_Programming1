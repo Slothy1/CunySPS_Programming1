{
 "cells": [
  {
   "cell_type": "code",
   "execution_count": null,
   "id": "73b3f7a7",
   "metadata": {},
   "outputs": [],
   "source": [
    "name = input(\"What is your name?\")\n",
    "print (\"Hi, \" + name)"
   ]
  },
  {
   "cell_type": "code",
   "execution_count": 4,
   "id": "c56646b6",
   "metadata": {},
   "outputs": [
    {
     "name": "stdout",
     "output_type": "stream",
     "text": [
      "Where you're from son?texas\n",
      "IT DOESN'T MATTER IF YOU'RE FROM TEXAS !!\n"
     ]
    }
   ],
   "source": [
    "location = input(\"Where you're from son?\")\n",
    "print (\"IT DOESN'T MATTER IF YOU'RE FROM \" + location.upper() + \" !!\")"
   ]
  },
  {
   "cell_type": "code",
   "execution_count": null,
   "id": "8f7a61bd",
   "metadata": {},
   "outputs": [],
   "source": []
  }
 ],
 "metadata": {
  "kernelspec": {
   "display_name": "Python 3",
   "language": "python",
   "name": "python3"
  },
  "language_info": {
   "codemirror_mode": {
    "name": "ipython",
    "version": 3
   },
   "file_extension": ".py",
   "mimetype": "text/x-python",
   "name": "python",
   "nbconvert_exporter": "python",
   "pygments_lexer": "ipython3",
   "version": "3.8.10"
  }
 },
 "nbformat": 4,
 "nbformat_minor": 5
}
