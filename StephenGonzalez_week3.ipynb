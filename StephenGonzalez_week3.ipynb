{
 "cells": [
  {
   "cell_type": "code",
   "execution_count": 79,
   "id": "4cf1e675",
   "metadata": {},
   "outputs": [
    {
     "name": "stdout",
     "output_type": "stream",
     "text": [
      "Nevermore!\n"
     ]
    }
   ],
   "source": [
    "#task1\n",
    "RAVEN = 'quoth'\n",
    "RAVEN = \"Nevermore!\"\n",
    "print(RAVEN)"
   ]
  },
  {
   "cell_type": "code",
   "execution_count": 80,
   "id": "a82693e6",
   "metadata": {},
   "outputs": [
    {
     "name": "stdout",
     "output_type": "stream",
     "text": [
      "52.142857142857146\n"
     ]
    }
   ],
   "source": [
    "#task2\n",
    "WEEKS = ((19 % 10) + 100 + (2**8))/7\n",
    "print(WEEKS)"
   ]
  },
  {
   "cell_type": "code",
   "execution_count": 83,
   "id": "8e43a46e",
   "metadata": {},
   "outputs": [
    {
     "name": "stdout",
     "output_type": "stream",
     "text": [
      "Danger Will Robinson!\n",
      "Danger \n",
      "Danger Danger Danger Danger Danger \n"
     ]
    }
   ],
   "source": [
    "WILL_ROBINSON = 'Danger Will Robinson!'\n",
    "print(WILL_ROBINSON)\n",
    "\n",
    "KLAXON = WILL_ROBINSON[0:7]\n",
    "\n",
    "print(KLAXON)\n",
    "\n",
    "print(KLAXON*5)"
   ]
  },
  {
   "cell_type": "code",
   "execution_count": 82,
   "id": "eca9db41",
   "metadata": {},
   "outputs": [
    {
     "name": "stdout",
     "output_type": "stream",
     "text": [
      "['Michaelangelo', 'Leonardo', 'Rafael', 'Donatello', 'Heroes in a half shell.']\n"
     ]
    }
   ],
   "source": [
    "#task5\n",
    "TEENAGE_MUTANT_NINJAS = ('Michaelangelo. Leonardo. Rafael. Donatello. Heroes '\n",
    "                     'in a half shell.')\n",
    "TURTLE_POWER = TEENAGE_MUTANT_NINJAS.split('. ')\n",
    "print(TURTLE_POWER)\n",
    "\n"
   ]
  },
  {
   "cell_type": "code",
   "execution_count": 78,
   "id": "1b47e204",
   "metadata": {},
   "outputs": [
    {
     "name": "stdout",
     "output_type": "stream",
     "text": [
      " long-tailed cat in a room full of rockin' chairs.\n",
      ", cat, bird lizard '\n"
     ]
    }
   ],
   "source": [
    "#task6\n",
    "NERVOUS_AS = \"\"\"//////////A long-tailed cat in a room full of rockin' chairs.,,,,,,,,,, \"\"\".strip(' ')\n",
    "NERVOUS_AS = NERVOUS_AS.rstrip(','); NERVOUS_AS = NERVOUS_AS.lstrip('/A')\n",
    "\n",
    "print(NERVOUS_AS)\n",
    "\n",
    "boo = \"dog, cat, bird lizard '//////A\".rstrip('/A')\n",
    "boo = boo.strip(\"do\"); boo = boo.lstrip('g')\n",
    "print(boo)\n",
    "\n",
    "#not sure why it gives me error for NERVOUS_AS or doesn't strip, My boo works fine does.\n",
    "#you created an error after the 3 quotation and pressed return to another line created issues)\n",
    "#update, completed. This was the most annoying task. It wouldn't lstrip because I started the line\n",
    "#first with NERVOUS_AS = NERVOUS_AS.rstrip before lstrip function. but now it works either order for some reason.\n",
    "\n",
    "\n",
    "\n",
    "\n",
    "\n",
    "\n"
   ]
  },
  {
   "cell_type": "code",
   "execution_count": 53,
   "id": "e32af36c",
   "metadata": {},
   "outputs": [
    {
     "name": "stdout",
     "output_type": "stream",
     "text": [
      "Dr. Strangelove Or: How I Learned To Stop Worrying And Love The Bomb\n"
     ]
    }
   ],
   "source": [
    "#TASK 7\n",
    "MOVIE = 'dr. strangelove or: how i learned to stop worrying and love the bomb'\n",
    "ENTITLE = MOVIE.title()\n",
    "print(ENTITLE)\n"
   ]
  },
  {
   "cell_type": "code",
   "execution_count": 54,
   "id": "8e2d106a",
   "metadata": {},
   "outputs": [
    {
     "name": "stdout",
     "output_type": "stream",
     "text": [
      "True\n",
      "False\n",
      "None\n",
      "True\n"
     ]
    }
   ],
   "source": [
    "#task 8\n",
    "IS_TRUE = True\n",
    "print(IS_TRUE)\n",
    "\n",
    "IS_FALSE = False\n",
    "print(IS_FALSE)\n",
    "\n",
    "IS_NONE = None\n",
    "print(IS_NONE)\n",
    "\n",
    "bool(IS_TRUE); bool(IS_FALSE)\n",
    "INTEGER_EQUIV = IS_TRUE == 1 and IS_FALSE == 0\n",
    "\n",
    "print(INTEGER_EQUIV)\n",
    "\n",
    "\n",
    "\n"
   ]
  },
  {
   "cell_type": "code",
   "execution_count": null,
   "id": "abb826ed",
   "metadata": {},
   "outputs": [],
   "source": []
  },
  {
   "cell_type": "code",
   "execution_count": null,
   "id": "4331dfb9",
   "metadata": {},
   "outputs": [],
   "source": []
  }
 ],
 "metadata": {
  "kernelspec": {
   "display_name": "Python 3",
   "language": "python",
   "name": "python3"
  },
  "language_info": {
   "codemirror_mode": {
    "name": "ipython",
    "version": 3
   },
   "file_extension": ".py",
   "mimetype": "text/x-python",
   "name": "python",
   "nbconvert_exporter": "python",
   "pygments_lexer": "ipython3",
   "version": "3.8.10"
  }
 },
 "nbformat": 4,
 "nbformat_minor": 5
}
