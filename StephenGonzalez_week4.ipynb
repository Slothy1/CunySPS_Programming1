{
 "cells": [
  {
   "cell_type": "code",
   "execution_count": 3,
   "id": "25c39373",
   "metadata": {},
   "outputs": [],
   "source": [
    "#Task 1\n",
    "def too_many_kittens(kittens, litterboxes, catfood):\n",
    "    return not (litterboxes >= kittens and catfood)\n"
   ]
  },
  {
   "cell_type": "code",
   "execution_count": 4,
   "id": "2cf3d2d0",
   "metadata": {},
   "outputs": [
    {
     "data": {
      "text/plain": [
       "True"
      ]
     },
     "execution_count": 4,
     "metadata": {},
     "output_type": "execute_result"
    }
   ],
   "source": [
    "too_many_kittens(12, 12, False)"
   ]
  },
  {
   "cell_type": "code",
   "execution_count": 5,
   "id": "589b5b53",
   "metadata": {},
   "outputs": [
    {
     "data": {
      "text/plain": [
       "True"
      ]
     },
     "execution_count": 5,
     "metadata": {},
     "output_type": "execute_result"
    }
   ],
   "source": [
    "too_many_kittens(13, 12, True)"
   ]
  },
  {
   "cell_type": "code",
   "execution_count": 6,
   "id": "a327f3b7",
   "metadata": {},
   "outputs": [
    {
     "data": {
      "text/plain": [
       "False"
      ]
     },
     "execution_count": 6,
     "metadata": {},
     "output_type": "execute_result"
    }
   ],
   "source": [
    "too_many_kittens(12, 13, True)"
   ]
  },
  {
   "cell_type": "code",
   "execution_count": 18,
   "id": "f18b8f75",
   "metadata": {},
   "outputs": [],
   "source": [
    "#TASK 3\n",
    "def defaults(my_required, my_optional=True):\n",
    "    return my_optional is my_required"
   ]
  },
  {
   "cell_type": "code",
   "execution_count": 19,
   "id": "bb963bd5",
   "metadata": {},
   "outputs": [
    {
     "data": {
      "text/plain": [
       "True"
      ]
     },
     "execution_count": 19,
     "metadata": {},
     "output_type": "execute_result"
    }
   ],
   "source": [
    "defaults(True)"
   ]
  },
  {
   "cell_type": "code",
   "execution_count": 20,
   "id": "4c1ade7d",
   "metadata": {},
   "outputs": [
    {
     "data": {
      "text/plain": [
       "False"
      ]
     },
     "execution_count": 20,
     "metadata": {},
     "output_type": "execute_result"
    }
   ],
   "source": [
    "defaults(True, False)"
   ]
  },
  {
   "cell_type": "code",
   "execution_count": 21,
   "id": "283f897e",
   "metadata": {},
   "outputs": [
    {
     "data": {
      "text/plain": [
       "True"
      ]
     },
     "execution_count": 21,
     "metadata": {},
     "output_type": "execute_result"
    }
   ],
   "source": [
    "defaults(False, False)"
   ]
  },
  {
   "cell_type": "code",
   "execution_count": null,
   "id": "c95a65b6",
   "metadata": {},
   "outputs": [],
   "source": []
  }
 ],
 "metadata": {
  "kernelspec": {
   "display_name": "Python 3",
   "language": "python",
   "name": "python3"
  },
  "language_info": {
   "codemirror_mode": {
    "name": "ipython",
    "version": 3
   },
   "file_extension": ".py",
   "mimetype": "text/x-python",
   "name": "python",
   "nbconvert_exporter": "python",
   "pygments_lexer": "ipython3",
   "version": "3.8.10"
  }
 },
 "nbformat": 4,
 "nbformat_minor": 5
}
