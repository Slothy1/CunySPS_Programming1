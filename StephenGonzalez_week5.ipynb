{
 "cells": [
  {
   "cell_type": "code",
   "execution_count": 3,
   "id": "9caf183f",
   "metadata": {
    "scrolled": true
   },
   "outputs": [],
   "source": [
    "#Task 1\n",
    "\n",
    "ELEMENTS = ('None','Hydrogen', 'Helium', 'Lithium', 'Beryllium', 'Boron', 'Carbon')\n",
    "\n",
    "OPERATIONS_ORDER = ['Parentheses', 'Exponents', 'Multiplication', 'Diision', 'Addition', 'Subtraction']\n",
    "\n",
    "\n",
    "\n"
   ]
  },
  {
   "cell_type": "code",
   "execution_count": 4,
   "id": "b58763f8",
   "metadata": {},
   "outputs": [
    {
     "data": {
      "text/plain": [
       "('None', 'Hydrogen', 'Helium', 'Lithium', 'Beryllium', 'Boron', 'Carbon')"
      ]
     },
     "execution_count": 4,
     "metadata": {},
     "output_type": "execute_result"
    }
   ],
   "source": [
    "ELEMENTS"
   ]
  },
  {
   "cell_type": "code",
   "execution_count": 5,
   "id": "d9eaa054",
   "metadata": {},
   "outputs": [
    {
     "data": {
      "text/plain": [
       "['Parentheses',\n",
       " 'Exponents',\n",
       " 'Multiplication',\n",
       " 'Diision',\n",
       " 'Addition',\n",
       " 'Subtraction']"
      ]
     },
     "execution_count": 5,
     "metadata": {},
     "output_type": "execute_result"
    }
   ],
   "source": [
    "OPERATIONS_ORDER"
   ]
  },
  {
   "cell_type": "code",
   "execution_count": 11,
   "id": "4d808c11",
   "metadata": {},
   "outputs": [],
   "source": [
    "#TASK 2\n",
    "\n",
    "def process_data(data):\n",
    "    sum=0\n",
    "    avg=0\n",
    "    for element in data:\n",
    "        sum=sum+element\n",
    "    avg=sum/len(data)\n",
    "    return sum,avg\n",
    "        "
   ]
  },
  {
   "cell_type": "code",
   "execution_count": 12,
   "id": "084b1f99",
   "metadata": {},
   "outputs": [
    {
     "data": {
      "text/plain": [
       "(6, 2.0)"
      ]
     },
     "execution_count": 12,
     "metadata": {},
     "output_type": "execute_result"
    }
   ],
   "source": [
    "process_data([1,2,3])"
   ]
  },
  {
   "cell_type": "code",
   "execution_count": 23,
   "id": "021f00fe",
   "metadata": {},
   "outputs": [],
   "source": [
    "#task 3\n",
    "\n",
    "def flip_keys(LIST):\n",
    "    i=0\n",
    "    for data in LIST:\n",
    "        new_data=data[::-1]\n",
    "        LIST[i]=new_data\n",
    "        i=i+1\n",
    "    return LIST "
   ]
  },
  {
   "cell_type": "code",
   "execution_count": 25,
   "id": "03052916",
   "metadata": {},
   "outputs": [
    {
     "data": {
      "text/plain": [
       "True"
      ]
     },
     "execution_count": 25,
     "metadata": {},
     "output_type": "execute_result"
    }
   ],
   "source": [
    "LIST = [(1, 2, 3), 'abc']\n",
    "NEW = flip_keys(LIST)\n",
    "\n",
    "LIST is NEW"
   ]
  },
  {
   "cell_type": "code",
   "execution_count": 27,
   "id": "e43be459",
   "metadata": {},
   "outputs": [
    {
     "name": "stdout",
     "output_type": "stream",
     "text": [
      "[(3, 2, 1), 'cba']\n"
     ]
    }
   ],
   "source": [
    "print (LIST)"
   ]
  }
 ],
 "metadata": {
  "kernelspec": {
   "display_name": "Python 3",
   "language": "python",
   "name": "python3"
  },
  "language_info": {
   "codemirror_mode": {
    "name": "ipython",
    "version": 3
   },
   "file_extension": ".py",
   "mimetype": "text/x-python",
   "name": "python",
   "nbconvert_exporter": "python",
   "pygments_lexer": "ipython3",
   "version": "3.8.10"
  }
 },
 "nbformat": 4,
 "nbformat_minor": 5
}
