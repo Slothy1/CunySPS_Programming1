{
 "cells": [
  {
   "cell_type": "code",
   "execution_count": null,
   "id": "ed84e04e",
   "metadata": {},
   "outputs": [],
   "source": [
    "#task 1\n",
    "def fibonacci_number_generator(n): \n",
    "    a,b = 0,1\n",
    "\n",
    "    n=n-2\n",
    "    while n>0: #loop\n",
    "        a,b=b,a+b \n",
    "        \n",
    "        n=n-1\n",
    "        return [n for n in range(0,9)]\n",
    "    \n",
    "fibonacci_number_generator(10) "
   ]
  },
  {
   "cell_type": "code",
   "execution_count": 48,
   "id": "1c40699d",
   "metadata": {},
   "outputs": [],
   "source": [
    "#task 2\n",
    "\n",
    "def lexicographics(to_analyze):\n",
    "        lines = to_analyze.split(\"\\n\")     \n",
    "        min = len(lines[0].split())     \n",
    "        max = len(lines[0].split())     \n",
    "        sum = 0\n",
    "        for i in range(len(lines)):         \n",
    "            length = len(lines[i].split())         \n",
    "            sum = sum + length\n",
    "            if(length<min):             \n",
    "                min = length         \n",
    "            if(length>max):             \n",
    "                max = length\n",
    "            x=(len(lines))\n",
    "        return (max,min,sum/x)\n",
    "       \n",
    "        \n",
    "        "
   ]
  },
  {
   "cell_type": "code",
   "execution_count": 49,
   "id": "346e0214",
   "metadata": {},
   "outputs": [
    {
     "name": "stdout",
     "output_type": "stream",
     "text": [
      "(5, 3, 4.0)\n"
     ]
    }
   ],
   "source": [
    "print(lexicographics(\"\"\"Don't stop believing, \n",
    "Hold on to that feeling.\"\"\"))\n",
    " "
   ]
  },
  {
   "cell_type": "code",
   "execution_count": 41,
   "id": "4a43d2cf",
   "metadata": {},
   "outputs": [
    {
     "data": {
      "text/plain": [
       "Decimal('10')"
      ]
     },
     "execution_count": 41,
     "metadata": {},
     "output_type": "execute_result"
    }
   ],
   "source": [
    "# was testin decimal function\n",
    "#Was trying to get it to display Decimal before 4.0 but it would give me errors\n",
    "#I tried using print(f() to test. It would print but then I would still get a output of none.\n",
    "#So I left it back to a return statement\n",
    "\n",
    "#I saw the decimal Module output how I wanted it to look. I tried to put it in my function and then return it \n",
    "#under a variable but it would not work. I tried using \n",
    "# y=decimal(sum/x). I tried to use the module before defining the function and within the function. Gave me errors I cannot\n",
    "# I ran out of time. so I just submitted as is.\n",
    "#I could not figure out how to : The average number of words per line in to_analyze, stored as a decimal.\n",
    "# it automatically has it as a decimal but I couldn't have it return it with Decimal before the actual value/\n",
    "\n",
    "from decimal import *\n",
    "getcontext()\n",
    "getcontext().prec = 7\n",
    "Decimal(10)\n",
    "\n"
   ]
  },
  {
   "cell_type": "code",
   "execution_count": null,
   "id": "25783966",
   "metadata": {},
   "outputs": [],
   "source": []
  }
 ],
 "metadata": {
  "kernelspec": {
   "display_name": "Python 3",
   "language": "python",
   "name": "python3"
  },
  "language_info": {
   "codemirror_mode": {
    "name": "ipython",
    "version": 3
   },
   "file_extension": ".py",
   "mimetype": "text/x-python",
   "name": "python",
   "nbconvert_exporter": "python",
   "pygments_lexer": "ipython3",
   "version": "3.8.10"
  }
 },
 "nbformat": 4,
 "nbformat_minor": 5
}
