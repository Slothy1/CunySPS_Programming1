{
 "cells": [
  {
   "cell_type": "code",
   "execution_count": 7,
   "id": "7c2342ac",
   "metadata": {},
   "outputs": [
    {
     "name": "stdout",
     "output_type": "stream",
     "text": [
      "What is your blood pressure? 120\n",
      "Your status is currently: Warning!\n"
     ]
    }
   ],
   "source": [
    "#TASK1\n",
    "input_bp = int(input(\"What is your blood pressure? \"))\n",
    "\n",
    "BP_STATUS = \"\"\n",
    "if input_bp <= 89:\n",
    "    BP_STATUS = \"Low\"\n",
    "elif 90 <= input_bp <= 119:     \n",
    "    BP_STATUS = \"ideal\"\n",
    "elif 120 <= input_bp <= 139:     \n",
    "    BP_STATUS = \"Warning\"\n",
    "elif 140 <= input_bp <= 159:     \n",
    "    BP_STATUS = \"High\"\n",
    "else:\n",
    "    BP_STATUS = \"Emergency\"\n",
    "    \n",
    "print(\"Your status is currently: {}!\".format(BP_STATUS))"
   ]
  }
 ],
 "metadata": {
  "kernelspec": {
   "display_name": "Python 3 (ipykernel)",
   "language": "python",
   "name": "python3"
  },
  "language_info": {
   "codemirror_mode": {
    "name": "ipython",
    "version": 3
   },
   "file_extension": ".py",
   "mimetype": "text/x-python",
   "name": "python",
   "nbconvert_exporter": "python",
   "pygments_lexer": "ipython3",
   "version": "3.10.5"
  }
 },
 "nbformat": 4,
 "nbformat_minor": 5
}
