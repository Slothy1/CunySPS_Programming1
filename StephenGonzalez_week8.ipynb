{
 "cells": [
  {
   "cell_type": "code",
   "execution_count": 35,
   "id": "443a2e33",
   "metadata": {},
   "outputs": [
    {
     "data": {
      "text/plain": [
       "140166242"
      ]
     },
     "execution_count": 35,
     "metadata": {},
     "output_type": "execute_result"
    }
   ],
   "source": [
    "def iter_dict_funky_sum(d):\n",
    "    total = 0   \n",
    "    for key,value in d.items():     \n",
    "        total = total + (value - key)   \n",
    "    return total  \n",
    "DATA = {\n",
    "    2: 7493945,\n",
    "    76: 4654320,\n",
    "    3: 4091979,\n",
    "    90: 1824881,\n",
    "    82: 714422,\n",
    "    45: 1137701,\n",
    "    10: 374362,\n",
    "    0: 326226,\n",
    "    -15: 417203,\n",
    "    -56: 333525,\n",
    "    67: 323451,\n",
    "    99: 321696,\n",
    "    21: 336753,\n",
    "    -100: 361237,\n",
    "    55: 1209714,\n",
    "    5150: 1771800,\n",
    "    42: 4714011,\n",
    "    888: 14817667,\n",
    "    3500: 13760234,\n",
    "    712: 10903322,\n",
    "    7: 10443792,\n",
    "    842: 11716264,\n",
    "    18584: 10559923,\n",
    "    666: 9275602,\n",
    "    70: 11901200,\n",
    "    153: 12074784,\n",
    "    8: 4337229\n",
    "}\n",
    "iter_dict_funky_sum(DATA)"
   ]
  },
  {
   "cell_type": "code",
   "execution_count": null,
   "id": "6ebbdc6e",
   "metadata": {},
   "outputs": [],
   "source": []
  }
 ],
 "metadata": {
  "kernelspec": {
   "display_name": "Python 3 (ipykernel)",
   "language": "python",
   "name": "python3"
  },
  "language_info": {
   "codemirror_mode": {
    "name": "ipython",
    "version": 3
   },
   "file_extension": ".py",
   "mimetype": "text/x-python",
   "name": "python",
   "nbconvert_exporter": "python",
   "pygments_lexer": "ipython3",
   "version": "3.10.5"
  }
 },
 "nbformat": 4,
 "nbformat_minor": 5
}
